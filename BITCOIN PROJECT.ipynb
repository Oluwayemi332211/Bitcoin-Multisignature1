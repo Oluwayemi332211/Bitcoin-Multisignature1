{
 "cells": [
  {
   "cell_type": "code",
   "execution_count": 7,
   "id": "9b6271d9",
   "metadata": {},
   "outputs": [
    {
     "name": "stdout",
     "output_type": "stream",
     "text": [
      "Requirement already satisfied: bitcoin in c:\\users\\hp\\anaconda3\\lib\\site-packages (1.1.42)Note: you may need to restart the kernel to use updated packages.\n",
      "\n"
     ]
    }
   ],
   "source": [
    "pip install bitcoin"
   ]
  },
  {
   "cell_type": "code",
   "execution_count": 8,
   "id": "e8093d27",
   "metadata": {},
   "outputs": [],
   "source": [
    "from bitcoin import *"
   ]
  },
  {
   "cell_type": "code",
   "execution_count": 11,
   "id": "801c14eb",
   "metadata": {},
   "outputs": [
    {
     "name": "stdout",
     "output_type": "stream",
     "text": [
      "Private Key: 67aa838c824e46dc5ed0be79652a8b3d01bafa5d77555b6d68d6e30ab44161dd\n",
      "\n"
     ]
    }
   ],
   "source": [
    "my_private_key = random_key()\n",
    "print(\"Private Key: %s\\n\" % my_private_key)"
   ]
  },
  {
   "cell_type": "code",
   "execution_count": 12,
   "id": "93f29996",
   "metadata": {
    "scrolled": true
   },
   "outputs": [
    {
     "name": "stdout",
     "output_type": "stream",
     "text": [
      "Public Key: 04f1cd5d80958092b397a50e48d3a9a03f2fb8c0b62778029ff3c775d279d63ca23e3e73ca8e54f1a6571b35998a84cb37ecaf2f97393cf8bf7a5ba60343ea78d9\n",
      "\n"
     ]
    }
   ],
   "source": [
    "my_public_key = privtopub(my_private_key)\n",
    "print(\"Public Key: %s\\n\" % my_public_key)"
   ]
  },
  {
   "cell_type": "code",
   "execution_count": 13,
   "id": "dcc2d442",
   "metadata": {},
   "outputs": [
    {
     "name": "stdout",
     "output_type": "stream",
     "text": [
      "Bitcoin Address: 1GGXYNUmqomhZBKRXnudbLDQCu4kVEzQFx\n",
      "\n"
     ]
    }
   ],
   "source": [
    "my_address = pubtoaddr(my_public_key)\n",
    "print(\"Bitcoin Address: %s\\n\" % my_address)"
   ]
  },
  {
   "cell_type": "code",
   "execution_count": 14,
   "id": "a0f75ace",
   "metadata": {},
   "outputs": [],
   "source": [
    "private_key1 = random_key()\n",
    "private_key2 = random_key()\n",
    "private_key3 = random_key()\n",
    "private_key4 = random_key()"
   ]
  },
  {
   "cell_type": "code",
   "execution_count": 15,
   "id": "7ed85846",
   "metadata": {},
   "outputs": [],
   "source": [
    "public_key1 = privtopub(private_key1)\n",
    "public_key2 = privtopub(private_key2)\n",
    "public_key3 = privtopub(private_key3)\n",
    "public_key4 = privtopub(private_key4)"
   ]
  },
  {
   "cell_type": "code",
   "execution_count": 18,
   "id": "97a13b40",
   "metadata": {},
   "outputs": [
    {
     "name": "stdout",
     "output_type": "stream",
     "text": [
      "My Multisignature Address: 39SMJLDNMe2c9LnJEmiajNvGrCGjHVLWRZ\n",
      "\n"
     ]
    }
   ],
   "source": [
    "my_mulit_sig = mk_multisig_script(private_key1, private_key2, private_key3, private_key4, 3, 4)\n",
    "my_mulit_address = scriptaddr(my_mulit_sig)\n",
    "print(\"My Multisignature Address: %s\\n\" % my_mulit_address)"
   ]
  },
  {
   "cell_type": "code",
   "execution_count": 10,
   "id": "1d49f356",
   "metadata": {},
   "outputs": [
    {
     "name": "stdout",
     "output_type": "stream",
     "text": [
      "[{'address': '1KokfmiMAkpnqDTt3aKVkrEf6Hsagpbz8B', 'value': 471797, 'output': '0b9b3e874638d8cbce4ff5fad651d740d6f5b9cee9503be9495a45b801f48bec:0', 'block_height': 668363, 'spend': '27815390ad05b8a49bc15ec364e0e320bab21aa5c46a6c5b2b79ac4c0ae9cbc1:4'}]\n"
     ]
    }
   ],
   "source": [
    "valid_address = '1KokfmiMAkpnqDTt3aKVkrEf6Hsagpbz8B'\n",
    "print(history(valid_address))"
   ]
  },
  {
   "cell_type": "code",
   "execution_count": null,
   "id": "46c0331a",
   "metadata": {},
   "outputs": [],
   "source": []
  }
 ],
 "metadata": {
  "kernelspec": {
   "display_name": "Python 3",
   "language": "python",
   "name": "python3"
  },
  "language_info": {
   "codemirror_mode": {
    "name": "ipython",
    "version": 3
   },
   "file_extension": ".py",
   "mimetype": "text/x-python",
   "name": "python",
   "nbconvert_exporter": "python",
   "pygments_lexer": "ipython3",
   "version": "3.8.8"
  }
 },
 "nbformat": 4,
 "nbformat_minor": 5
}
